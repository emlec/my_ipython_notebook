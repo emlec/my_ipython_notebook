{
 "cells": [
  {
   "cell_type": "markdown",
   "metadata": {},
   "source": [
    "# gb to bed "
   ]
  },
  {
   "cell_type": "code",
   "execution_count": 1,
   "metadata": {
    "collapsed": false
   },
   "outputs": [],
   "source": [
    "import Utilities "
   ]
  },
  {
   "cell_type": "code",
   "execution_count": 3,
   "metadata": {
    "collapsed": true
   },
   "outputs": [],
   "source": [
    "from Utilities import gb_to_bed"
   ]
  },
  {
   "cell_type": "code",
   "execution_count": 4,
   "metadata": {
    "collapsed": false
   },
   "outputs": [
    {
     "name": "stdout",
     "output_type": "stream",
     "text": [
      "50 features to be parsed\n",
      "\n"
     ]
    }
   ],
   "source": [
    "gb_to_bed ('pBR322.gb', 'pBR322')"
   ]
  },
  {
   "cell_type": "code",
   "execution_count": 6,
   "metadata": {
    "collapsed": false
   },
   "outputs": [
    {
     "name": "stdout",
     "output_type": "stream",
     "text": [
      "track name=J01749.1 description=\"pBR322\" visibility=2 colorByStrand=\"255,0,0 0,0,255\"\r\n",
      "J01749.1\t85\t1276\ttet\t1000\t+\t\r\n",
      "J01749.1\t85\t1276\ttet\t1000\t+\t\r\n",
      "J01749.1\t145\t147\ttet\t1000\t+\t\r\n",
      "J01749.1\t410\t414\ttet\t1000\t+\t\r\n",
      "J01749.1\t425\t426\ttet\t1000\t+\t\r\n",
      "J01749.1\t468\t472\ttet\t1000\t+\t\r\n",
      "J01749.1\t525\t528\ttet\t1000\t+\t\r\n",
      "J01749.1\t3292\t4153\tbla\t1000\t-\t\r\n",
      "J01749.1\t3292\t4153\tbla\t1000\t-\t\r\n",
      "J01749.1\t4084\t4153\tbla\t1000\t-\t\r\n",
      "J01749.1\t3295\t4084\tbla\t1000\t-\t\r\n"
     ]
    }
   ],
   "source": [
    "cat pBR322.bed\n"
   ]
  }
 ],
 "metadata": {
  "kernelspec": {
   "display_name": "Python 2",
   "language": "python",
   "name": "python2"
  },
  "language_info": {
   "codemirror_mode": {
    "name": "ipython",
    "version": 2
   },
   "file_extension": ".py",
   "mimetype": "text/x-python",
   "name": "python",
   "nbconvert_exporter": "python",
   "pygments_lexer": "ipython2",
   "version": "2.7.4"
  }
 },
 "nbformat": 4,
 "nbformat_minor": 0
}
