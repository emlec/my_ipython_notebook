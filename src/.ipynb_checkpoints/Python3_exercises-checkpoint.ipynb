{
 "cells": [
  {
   "cell_type": "markdown",
   "metadata": {},
   "source": [
    "# Open/Close Read/Write/Add input"
   ]
  },
  {
   "cell_type": "code",
   "execution_count": 31,
   "metadata": {
    "collapsed": false
   },
   "outputs": [],
   "source": [
    "def writing():\n",
    "    \"\"\" Create a new file if necessary and write in it by input\"\"\"\n",
    "\n",
    "    print(\"Nom du fichier :\")\n",
    "    filename=input()\n",
    "    f = open(filename, 'a')\n",
    "    f.close()\n",
    "    print(\"Nouvelles lignes de commandes ? O/N ?\")\n",
    "    a = input()\n",
    "    while a == \"O\" :\n",
    "        print(\"Ecrire les nouvelles lignes de commandes :\")\n",
    "        with open(filename, 'a') as f:\n",
    "            f.write(input())\n",
    "            print(\"Nouvelles lignes de commandes ? O/N ?\")\n",
    "            a = input()\n",
    "    print(\"Affichage du contenu du fichier :\")\n",
    "    with open(filename, 'r') as f:\n",
    "        print(f.read())\n",
    "        \n",
    "\n",
    "    \n"
   ]
  }
 ],
 "metadata": {
  "kernelspec": {
   "display_name": "Python 3",
   "language": "python",
   "name": "python3"
  },
  "language_info": {
   "codemirror_mode": {
    "name": "ipython",
    "version": 3
   },
   "file_extension": ".py",
   "mimetype": "text/x-python",
   "name": "python",
   "nbconvert_exporter": "python",
   "pygments_lexer": "ipython3",
   "version": "3.4.0"
  }
 },
 "nbformat": 4,
 "nbformat_minor": 0
}
