{
 "metadata": {
  "name": ""
 },
 "nbformat": 3,
 "nbformat_minor": 0,
 "worksheets": [
  {
   "cells": [
    {
     "cell_type": "markdown",
     "metadata": {},
     "source": [
      "Extract molecular Index (Split) / Dictionnaire\n"
     ]
    },
    {
     "cell_type": "code",
     "collapsed": false,
     "input": [
      "import HTSeq\n",
      "\n",
      "dictio = {}\n",
      "\n",
      "for read in HTSeq.FastqReader(\"EditFastq\"):\n",
      "    molecularIndex = read.name.split(\":\")[-1]\n",
      "    print molecularIndex\n",
      "    \n",
      "    if not molecularIndex in dictio :\n",
      "        dictio[molecularIndex] = []   \n",
      "    dictio[molecularIndex].append(read)\n",
      "\n",
      "print len (dictio[\"GAGGAAACTG\"][0])\n",
      "\n",
      "\n",
      "    \n",
      "    \n",
      "\n",
      "\n",
      "\n",
      "\n",
      "        "
     ],
     "language": "python",
     "metadata": {},
     "outputs": [
      {
       "output_type": "stream",
       "stream": "stdout",
       "text": [
        "GAGGAAACTG\n",
        "TGAGAGAATC\n",
        "TATGAGGGAG\n",
        "GAAGGATGAT\n",
        "TGTGAGAGAG\n",
        "GAGGAAACTG\n",
        "GAGGAAACTG\n",
        "GAGGAAACTG\n",
        "GAGGAAACTG\n",
        "GAGGAAACTG\n",
        "100\n"
       ]
      }
     ],
     "prompt_number": 98
    },
    {
     "cell_type": "code",
     "collapsed": false,
     "input": [],
     "language": "python",
     "metadata": {},
     "outputs": []
    }
   ],
   "metadata": {}
  }
 ]
}