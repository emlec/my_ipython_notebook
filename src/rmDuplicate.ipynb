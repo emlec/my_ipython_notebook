{
 "metadata": {
  "name": ""
 },
 "nbformat": 3,
 "nbformat_minor": 0,
 "worksheets": [
  {
   "cells": [
    {
     "cell_type": "code",
     "collapsed": false,
     "input": [
      "import sys\n",
      "print(sys.version)\n"
     ],
     "language": "python",
     "metadata": {},
     "outputs": [
      {
       "output_type": "stream",
       "stream": "stdout",
       "text": [
        "2.7.6 (default, Jun 22 2015, 17:58:13) \n",
        "[GCC 4.8.2]\n"
       ]
      }
     ],
     "prompt_number": 7
    },
    {
     "cell_type": "code",
     "collapsed": false,
     "input": [
      "import HTSeq"
     ],
     "language": "python",
     "metadata": {},
     "outputs": [],
     "prompt_number": 8
    },
    {
     "cell_type": "code",
     "collapsed": false,
     "input": [
      "myread = HTSeq.SequenceWithQualities(\"ACCTTAG\",\"R1\", \"IICG###\")\n",
      "\n"
     ],
     "language": "python",
     "metadata": {},
     "outputs": [],
     "prompt_number": 25
    },
    {
     "cell_type": "code",
     "collapsed": false,
     "input": [
      "myread.qual"
     ],
     "language": "python",
     "metadata": {},
     "outputs": [
      {
       "metadata": {},
       "output_type": "pyout",
       "prompt_number": 34,
       "text": [
        "array([40, 40, 34, 38,  2,  2,  2])"
       ]
      }
     ],
     "prompt_number": 34
    },
    {
     "cell_type": "code",
     "collapsed": false,
     "input": [
      "print(myread)"
     ],
     "language": "python",
     "metadata": {},
     "outputs": [
      {
       "output_type": "stream",
       "stream": "stdout",
       "text": [
        "ACCTTAG\n"
       ]
      }
     ],
     "prompt_number": 28
    },
    {
     "cell_type": "code",
     "collapsed": false,
     "input": [
      "import numpy\n",
      "\n",
      "myread = HTSeq.SequenceWithQualities(\"GGGGG\",\"R1b\", \"IICG#\")\n",
      "with open(\"EditFastq\", \"a\") as EF :\n",
      "    a =myread.write_to_fastq_file(EF)\n",
      "    print(a)\n",
      "    left_seq = HTSeq.Sequence (\"GGG\")\n",
      "    print myread.trim_left_end(left_seq)\n",
      "    "
     ],
     "language": "python",
     "metadata": {},
     "outputs": [
      {
       "output_type": "stream",
       "stream": "stdout",
       "text": [
        "None\n",
        "GG\n"
       ]
      }
     ],
     "prompt_number": 39
    },
    {
     "cell_type": "code",
     "collapsed": false,
     "input": [
      "import HTSeq\n",
      "with open (\"EditFastq\", \"r\") as EF : \n",
      "    for s in HTSeq.FastqReader(EF) :\n",
      "        print \"Sequence '%s' has length '%d'et une qualit\u00e9 de '%s'.\" %(s.name, len(s), s.qual)\n"
     ],
     "language": "python",
     "metadata": {},
     "outputs": [
      {
       "output_type": "stream",
       "stream": "stdout",
       "text": [
        "Sequence 'R1' has length '7'et une qualit\u00e9 de '[40 40 34 38  2  2  2]'.\n",
        "Sequence 'R1b' has length '5'et une qualit\u00e9 de '[40 40 34 38  2]'.\n",
        "Sequence 'R1b' has length '5'et une qualit\u00e9 de '[40 40 34 38  2]'.\n",
        "Sequence 'R1b' has length '5'et une qualit\u00e9 de '[40 40 34 38  2]'.\n"
       ]
      }
     ],
     "prompt_number": 15
    },
    {
     "cell_type": "code",
     "collapsed": false,
     "input": [
      "with open (\"EditFastq\", \"r\") :\n",
      "    myread = dict((s.name, s) for s in HTSeq.FastqReader(\"EditFastq\"))\n",
      "    print myread[\"R1\"].qualstr\n",
      "myread.keys()\n",
      "\n",
      "    \n",
      "    \n",
      "    "
     ],
     "language": "python",
     "metadata": {},
     "outputs": [
      {
       "output_type": "stream",
       "stream": "stdout",
       "text": [
        "IICG###\n"
       ]
      },
      {
       "metadata": {},
       "output_type": "pyout",
       "prompt_number": 57,
       "text": [
        "['R1b', 'R1']"
       ]
      }
     ],
     "prompt_number": 57
    },
    {
     "cell_type": "markdown",
     "metadata": {},
     "source": [
      "Extract molecular Index (Split)\n"
     ]
    },
    {
     "cell_type": "code",
     "collapsed": false,
     "input": [
      "\n",
      "with open(\"Fastq_R1_10reads.fastq.gz\", \"r\") as f:\n",
      "    for line in f :\n",
      "        b = line.split(\":\")[-1]\n",
      "        print b\n",
      "\n",
      "with open(\"Fastq_R1_10reads.fastq.gz\", \"r\") as f:\n",
      "        print f.read()\n",
      "        \n",
      "\n",
      "\n",
      "\n",
      "        "
     ],
     "language": "python",
     "metadata": {},
     "outputs": [
      {
       "output_type": "stream",
       "stream": "stdout",
       "text": [
        "GAGGAAACTG\n",
        "\n",
        "CTATTAATAACTAGTCAATAATCAATGTCAACATGGCGGTAATGTTGGACATGAGCCAATATAAATGTACATATTATGATATGGATACAACGTATGCAAT\n",
        "\n",
        "+\n",
        "\n",
        "CCCFFFFFHHHHHJJJHIJJJJJJJJJJJJJJJJJJJJJDGIGGFIGIBGGHGGGGIGIGGGHIJIIEHEHHEHHBCDCDDDCE;@CEDDAB?BCCDDDC\n",
        "\n",
        "TGAGAGAATC\n",
        "\n",
        "ACTTCACCTCGGCGCGGGTCTTGTAGTTGCCGTCGTCCTTGAAGAAGATGGTGCGCTCCTGGACGTAGCCTTCGGGCATGGCGGACTTGAAGAAGTCGTG\n",
        "\n",
        "+\n",
        "\n",
        "CCCFFFFFHHHHHJJJJJIJJJJIJJJJJJJJJJJHHFFFFFEEEEEEDDDCDDDDDDDDDDDDDDDDDDDDDDDDDDDDDDDDDDDDDDDDDDDDDDDD\n",
        "\n",
        "TATGAGGGAG\n",
        "\n",
        "GACATTCATGAGGACAGCTAAAACAATAAGTAATGTAAAATACAGCATAGCAAAACTTTAACCTCCAAATCAAGCCTCTACTTGAATCCTTTTCTGAG\n",
        "\n",
        "+\n",
        "\n",
        "=DDFFFHHHHHJJJJJJJIJJJJJJJJJJJFGHIIJJIJJJJJIJJJJJJJIJJJJIJJJJJJJJJJJHIJJJJJHHHHFFFFFFEEEEEEEDDDDED\n",
        "\n",
        "GAAGGATGAT\n",
        "\n",
        "GGGGGATATTATGAAGGGCCTTGAGCATCTGGATTCTGCCTAATAAAAAACATTTATTTTCATTGCAATGATGTATTTAAATTATTTCTGAATATTTTAC\n",
        "\n",
        "+\n",
        "\n",
        "CCCFFFFFHHHHHJJJJJJJJJJJJJJJJJJJJJJJJJJJJIJJJJJJJJJJJJJJJJJJJJJJJJJHHHHHHFFFFFFFFEEEEFEEEDEDDEEFFEFD\n",
        "\n",
        "TGTGAGAGAG\n",
        "\n",
        "TTGGTCAATATGTGTACCCTGTTACTTCTCCCCTTCCTATGACATGAACTTAACCATAGAAAAGAAGGGGAAAGAAAACATCAAGGGTCCCATAGACTCA\n",
        "\n",
        "+\n",
        "\n",
        "CCCFFFFFHHHHHJJJJJJJJJJJJJJJJJJJJJJJJJJJJJJJJJJJJJJJJJJJJJJJJJJJIJJJJJJJHHHHHFFFFFEEEEDDDDDDDDDDDDDD\n",
        "\n",
        "ATGTGTTGTA\n",
        "\n",
        "GACTCCACTCAGTTCTCTTGCTTAGAGATACCACCTTTCCCCTGAAGTGTTCCTTCCATGTTTTACGGCGAGATGGTTTCTCCTCGCCTGGCCACTCAGC\n",
        "\n",
        "+\n",
        "\n",
        "@@@DBDDBDFHHHG>EHEDGGHIGGHIGHID?FGHIHHGHIIIGG@AFDDD@GIEGIG@GBFGEGHIGGH<A=;AA>@BCCCCCC??B98<?B>@ACCCA\n",
        "\n",
        "TCAGGATGCC\n",
        "\n",
        "TGAATTAGATCTGGGCCCTCGAGGTCGACGGTATCGATAAGCTTGGATCCTCTAGAGCGGCCGCTTTACTTGTACAGCTCGTCCATGCCGAGAGTGAT\n",
        "\n",
        "+\n",
        "\n",
        "BDFFFHHHHHJIIJIJJJJJJJJGHJJJIJHIJJJJJJJJIJJJJJHHHHHHFFFFFDDDDDDDDDDDDDDDDEEEDDDDDDDDEDDDDBDDDCDDE\n",
        "\n",
        "TTCGGGCTCT\n",
        "\n",
        "AAATTATTTCTGAATATTTTACTAAAAAGGGAATGTGGGAGGTCAGTGCATTTAAAACATAAAGAAATGAAGAGCTAGTTCAAACCTTGGGAAAATACAC\n",
        "\n",
        "+\n",
        "\n",
        "CCCFFFFFHHHHHJJJJJJJJJJJJJJJJJJJJJJJJJJJJJGHIJIJJJJJJJJJJJJJJJJJJJJJJJJJJHHHHHHFFFFFFDEEEEDDDDDDDDDD\n",
        "\n",
        "ACAGAGACTA\n",
        "\n",
        "GAGCGAGCGAGCGCGCAGAGAGGGAGTGGCCAACTCCATCACTAGGGGTTCCTTGTAGTTAATGATTAACCCGCCATGCTACTTATCTACGTAGCCATGC\n",
        "\n",
        "+\n",
        "\n",
        "CCCFFFFFHHHHHJJJJJJJIJJJJJHIJJJJHHHHFFFFFFEEEEDDBDDDDDDDDDEEEEEDDDEEDDDDDDDDDDDDDDDDEDDDEDDBDDDDDDDD\n",
        "\n",
        "TCTGTGTGTA\n",
        "\n",
        "GTAACAACTCCGCCCCATTGACGCAAATGGGCGGTAGGCGTGTACGGTGGGAGGTCTATATAAGCAGAGCTCGTTTAGTGAACCGTCAGATCGCCTGGAG\n",
        "\n",
        "+\n",
        "\n",
        "CCCFFFFFHHHHHJJJJJJJJJJJJJJJJJJJJJJJJHHHFFFEEDDDDDDDDD?CDDEEEEEDDDDDDDDDDDDDDDCDEEDDDDDDDDDDDDDDDDDD\n",
        "\n",
        "@HWI-1KL149:94:HB8HBADXX:1:1101:1215:2185:ATTACTTATAGC:GAGGAAACTG\n",
        "CTATTAATAACTAGTCAATAATCAATGTCAACATGGCGGTAATGTTGGACATGAGCCAATATAAATGTACATATTATGATATGGATACAACGTATGCAAT\n",
        "+\n",
        "CCCFFFFFHHHHHJJJHIJJJJJJJJJJJJJJJJJJJJJDGIGGFIGIBGGHGGGGIGIGGGHIJIIEHEHHEHHBCDCDDDCE;@CEDDAB?BCCDDDC\n",
        "@HWI-1KL149:94:HB8HBADXX:1:1101:1170:2245:ATTACTTATAGC:TGAGAGAATC\n",
        "ACTTCACCTCGGCGCGGGTCTTGTAGTTGCCGTCGTCCTTGAAGAAGATGGTGCGCTCCTGGACGTAGCCTTCGGGCATGGCGGACTTGAAGAAGTCGTG\n",
        "+\n",
        "CCCFFFFFHHHHHJJJJJIJJJJIJJJJJJJJJJJHHFFFFFEEEEEEDDDCDDDDDDDDDDDDDDDDDDDDDDDDDDDDDDDDDDDDDDDDDDDDDDDD\n",
        "@HWI-1KL149:94:HB8HBADXX:1:1101:1448:2097:ATTACTTATAGC:TATGAGGGAG\n",
        "GACATTCATGAGGACAGCTAAAACAATAAGTAATGTAAAATACAGCATAGCAAAACTTTAACCTCCAAATCAAGCCTCTACTTGAATCCTTTTCTGAG\n",
        "+\n",
        "=DDFFFHHHHHJJJJJJJIJJJJJJJJJJJFGHIIJJIJJJJJIJJJJJJJIJJJJIJJJJJJJJJJJHIJJJJJHHHHFFFFFFEEEEEEEDDDDED\n",
        "@HWI-1KL149:94:HB8HBADXX:1:1101:1325:2216:ATTACTTATAGC:GAAGGATGAT\n",
        "GGGGGATATTATGAAGGGCCTTGAGCATCTGGATTCTGCCTAATAAAAAACATTTATTTTCATTGCAATGATGTATTTAAATTATTTCTGAATATTTTAC\n",
        "+\n",
        "CCCFFFFFHHHHHJJJJJJJJJJJJJJJJJJJJJJJJJJJJIJJJJJJJJJJJJJJJJJJJJJJJJJHHHHHHFFFFFFFFEEEEFEEEDEDDEEFFEFD\n",
        "@HWI-1KL149:94:HB8HBADXX:1:1101:1744:2176:ATTACTTATAGC:TGTGAGAGAG\n",
        "TTGGTCAATATGTGTACCCTGTTACTTCTCCCCTTCCTATGACATGAACTTAACCATAGAAAAGAAGGGGAAAGAAAACATCAAGGGTCCCATAGACTCA\n",
        "+\n",
        "CCCFFFFFHHHHHJJJJJJJJJJJJJJJJJJJJJJJJJJJJJJJJJJJJJJJJJJJJJJJJJJJIJJJJJJJHHHHHFFFFFEEEEDDDDDDDDDDDDDD\n",
        "@HWI-1KL149:94:HB8HBADXX:1:1101:1567:2201:ATTACTTATAGC:ATGTGTTGTA\n",
        "GACTCCACTCAGTTCTCTTGCTTAGAGATACCACCTTTCCCCTGAAGTGTTCCTTCCATGTTTTACGGCGAGATGGTTTCTCCTCGCCTGGCCACTCAGC\n",
        "+\n",
        "@@@DBDDBDFHHHG>EHEDGGHIGGHIGHID?FGHIHHGHIIIGG@AFDDD@GIEGIG@GBFGEGHIGGH<A=;AA>@BCCCCCC??B98<?B>@ACCCA\n",
        "@HWI-1KL149:94:HB8HBADXX:1:1101:1364:2109:ATTACTTATAGC:TCAGGATGCC\n",
        "TGAATTAGATCTGGGCCCTCGAGGTCGACGGTATCGATAAGCTTGGATCCTCTAGAGCGGCCGCTTTACTTGTACAGCTCGTCCATGCCGAGAGTGAT\n",
        "+\n",
        ":BDFFFHHHHHJIIJIJJJJJJJJGHJJJIJHIJJJJJJJJIJJJJJHHHHHHFFFFFDDDDDDDDDDDDDDDDEEEDDDDDDDDEDDDDBDDDCDDE\n",
        "@HWI-1KL149:94:HB8HBADXX:1:1101:1984:2199:ATTACTTATAGC:TTCGGGCTCT\n",
        "AAATTATTTCTGAATATTTTACTAAAAAGGGAATGTGGGAGGTCAGTGCATTTAAAACATAAAGAAATGAAGAGCTAGTTCAAACCTTGGGAAAATACAC\n",
        "+\n",
        "CCCFFFFFHHHHHJJJJJJJJJJJJJJJJJJJJJJJJJJJJJGHIJIJJJJJJJJJJJJJJJJJJJJJJJJJJHHHHHHFFFFFFDEEEEDDDDDDDDDD\n",
        "@HWI-1KL149:94:HB8HBADXX:1:1101:2511:2240:ATTACTTATAGC:ACAGAGACTA\n",
        "GAGCGAGCGAGCGCGCAGAGAGGGAGTGGCCAACTCCATCACTAGGGGTTCCTTGTAGTTAATGATTAACCCGCCATGCTACTTATCTACGTAGCCATGC\n",
        "+\n",
        "CCCFFFFFHHHHHJJJJJJJIJJJJJHIJJJJHHHHFFFFFFEEEEDDBDDDDDDDDDEEEEEDDDEEDDDDDDDDDDDDDDDDEDDDEDDBDDDDDDDD\n",
        "@HWI-1KL149:94:HB8HBADXX:1:1101:2574:2244:ATTACTTATAGC:TCTGTGTGTA\n",
        "GTAACAACTCCGCCCCATTGACGCAAATGGGCGGTAGGCGTGTACGGTGGGAGGTCTATATAAGCAGAGCTCGTTTAGTGAACCGTCAGATCGCCTGGAG\n",
        "+\n",
        "CCCFFFFFHHHHHJJJJJJJJJJJJJJJJJJJJJJJJHHHFFFEEDDDDDDDDD?CDDEEEEEDDDDDDDDDDDDDDDCDEEDDDDDDDDDDDDDDDDDD\n",
        "\n"
       ]
      }
     ],
     "prompt_number": 106
    },
    {
     "cell_type": "code",
     "collapsed": false,
     "input": [],
     "language": "python",
     "metadata": {},
     "outputs": []
    }
   ],
   "metadata": {}
  }
 ]
}