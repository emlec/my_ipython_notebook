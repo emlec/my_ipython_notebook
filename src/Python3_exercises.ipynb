{
 "metadata": {
  "name": ""
 },
 "nbformat": 3,
 "nbformat_minor": 0,
 "worksheets": [
  {
   "cells": [
    {
     "cell_type": "heading",
     "level": 1,
     "metadata": {},
     "source": [
      "Open/Close Read/Write/Add input"
     ]
    },
    {
     "cell_type": "code",
     "collapsed": false,
     "input": [
      "print(\"Nom du fichier :\")\n",
      "filename=input()\n",
      "f = open(filename, 'a')\n",
      "f.close()\n",
      "print(\"Nouvelles lignes de commandes ? O/N ?\")\n",
      "a = input()\n",
      "if a == \"O\" :\n",
      "    print(\"Nouvelles lignes de commandes :\")\n",
      "    with open(filename, 'a') as f:\n",
      "        f.write(input())\n",
      "    \n",
      "\n",
      "else :\n",
      "\n",
      "    print(\"Affichage du contenu du fichier\")\n",
      "    with open(filename, 'r') as f:\n",
      "        print(f.read())\n",
      "        \n",
      "        \n",
      "    \n",
      "    \n"
     ],
     "language": "python",
     "metadata": {},
     "outputs": []
    }
   ],
   "metadata": {}
  }
 ]
}